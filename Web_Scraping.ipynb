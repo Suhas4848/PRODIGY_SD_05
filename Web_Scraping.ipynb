{
 "cells": [
  {
   "cell_type": "markdown",
   "id": "2d609b65-975c-4f19-9650-208c9e7269a6",
   "metadata": {},
   "source": [
    "# Import libraries"
   ]
  },
  {
   "cell_type": "code",
   "execution_count": 2,
   "id": "0ca97baa-bc76-41e3-b73e-c71b1c5085a2",
   "metadata": {},
   "outputs": [],
   "source": [
    "import requests\n",
    "from bs4 import BeautifulSoup\n",
    "import pandas as pd\n"
   ]
  },
  {
   "cell_type": "markdown",
   "id": "8361879e-7401-4767-abb3-84b4fa2c84f2",
   "metadata": {},
   "source": [
    "# Target URL"
   ]
  },
  {
   "cell_type": "code",
   "execution_count": 4,
   "id": "a43dd151-c404-4ec7-aec4-c3b1ef7db9a8",
   "metadata": {},
   "outputs": [],
   "source": [
    "url = \"http://quotes.toscrape.com/\""
   ]
  },
  {
   "cell_type": "markdown",
   "id": "76f0018c-6f64-4852-a08b-ef9fca50f350",
   "metadata": {},
   "source": [
    "#  Fetch the webpage content"
   ]
  },
  {
   "cell_type": "code",
   "execution_count": 6,
   "id": "29d71013-c743-4c09-a473-63723ab3db06",
   "metadata": {},
   "outputs": [],
   "source": [
    "response = requests.get(url)\n",
    "soup = BeautifulSoup(response.text, \"html.parser\")"
   ]
  },
  {
   "cell_type": "markdown",
   "id": "343cf79b-dc0c-4ad5-a7d9-100d989d6ebb",
   "metadata": {},
   "source": [
    "# Lists to store quote details"
   ]
  },
  {
   "cell_type": "code",
   "execution_count": 8,
   "id": "9d10ee9e-122a-45d4-829b-9ee57c4e32f2",
   "metadata": {},
   "outputs": [],
   "source": [
    "quotes = []\n",
    "authors = []\n",
    "tags = []\n"
   ]
  },
  {
   "cell_type": "markdown",
   "id": "967e19f6-ee8d-4d80-88c0-d230af1a1ae3",
   "metadata": {},
   "source": [
    "# Extract quote details"
   ]
  },
  {
   "cell_type": "code",
   "execution_count": 10,
   "id": "ce676f7c-b426-4faa-8b3a-84bf4e3e1d48",
   "metadata": {},
   "outputs": [],
   "source": [
    "for quote in soup.find_all(\"div\", class_=\"quote\"):\n",
    "    # Quote text\n",
    "    text = quote.find(\"span\", class_=\"text\").text\n",
    "    quotes.append(text)\n",
    "    \n",
    "    # Author name\n",
    "    author = quote.find(\"small\", class_=\"author\").text\n",
    "    authors.append(author)\n",
    "    \n",
    "    # Tags\n",
    "    tag_list = [tag.text for tag in quote.find_all(\"a\", class_=\"tag\")]\n",
    "    tags.append(\", \".join(tag_list))\n"
   ]
  },
  {
   "cell_type": "markdown",
   "id": "eb9d8c39-c918-4d64-a18f-9d90fa4bc3ae",
   "metadata": {},
   "source": [
    "# Create a DataFrame and save to CSV"
   ]
  },
  {
   "cell_type": "code",
   "execution_count": 12,
   "id": "6fd45136-8213-489e-82aa-b6972f5be5f7",
   "metadata": {},
   "outputs": [],
   "source": [
    "\n",
    "data = pd.DataFrame({\n",
    "    \"Quote\": quotes,\n",
    "    \"Author\": authors,\n",
    "    \"Tags\": tags\n",
    "})\n"
   ]
  },
  {
   "cell_type": "markdown",
   "id": "c81ff08f-a446-4bb8-9fc0-e9ab9bc53bdf",
   "metadata": {},
   "source": [
    "# Creating Quotes.csv file to save the data"
   ]
  },
  {
   "cell_type": "code",
   "execution_count": 14,
   "id": "eb01a4a7-3d40-44f9-a387-b679badfea5b",
   "metadata": {},
   "outputs": [
    {
     "name": "stdout",
     "output_type": "stream",
     "text": [
      "Data saved to quotes.csv\n"
     ]
    }
   ],
   "source": [
    "data.to_csv(\"quotes.csv\", index=False)\n",
    "print(\"Data saved to quotes.csv\")"
   ]
  }
 ],
 "metadata": {
  "kernelspec": {
   "display_name": "Python 3 (ipykernel)",
   "language": "python",
   "name": "python3"
  },
  "language_info": {
   "codemirror_mode": {
    "name": "ipython",
    "version": 3
   },
   "file_extension": ".py",
   "mimetype": "text/x-python",
   "name": "python",
   "nbconvert_exporter": "python",
   "pygments_lexer": "ipython3",
   "version": "3.12.4"
  }
 },
 "nbformat": 4,
 "nbformat_minor": 5
}
